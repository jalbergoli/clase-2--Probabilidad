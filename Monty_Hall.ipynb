{
 "cells": [
  {
   "cell_type": "code",
   "execution_count": 1,
   "id": "67c08ccf-4783-4a42-a047-de3d79572fa6",
   "metadata": {},
   "outputs": [],
   "source": [
    "import numpy as np\n",
    "import pandas as pd"
   ]
  },
  {
   "cell_type": "code",
   "execution_count": 188,
   "id": "1957da9d-a1e8-468c-8e1e-445c73709fb9",
   "metadata": {},
   "outputs": [
    {
     "name": "stdout",
     "output_type": "stream",
     "text": [
      "Prob de ganar si cambio: 67.0%.\n",
      "Prob de ganar si me quedo: 33.0%.\n",
      "Prob de ganar si lo hago al azar: 50.0%.\n"
     ]
    }
   ],
   "source": [
    "n_count = 10000\n",
    "\n",
    "zeros = np.zeros(2)\n",
    "ones = np.ones(1)\n",
    "puertas = np.append(zeros, ones)\n",
    "stay = 0; change = 0; random = 0\n",
    "stay_arr = np.zeros(n_count);change_arr = np.zeros(n_count);random_arr = np.zeros(n_count)\n",
    "\n",
    "for n in range(0,n_count):\n",
    "    np.random.shuffle(puertas)\n",
    "    \n",
    "    puerta_eleccion = puertas[0]\n",
    "    if puertas[1]==1:\n",
    "        puerta_conductor = puertas[2]\n",
    "        puerta_cambio = puertas[1]\n",
    "    else:\n",
    "        puerta_conductor = puertas[1]\n",
    "        puerta_cambio = puertas[2]\n",
    "        \n",
    "        \n",
    "    ran = np.random.randint(0,2)\n",
    "    stay = stay + puerta_eleccion\n",
    "    change = change + puerta_cambio\n",
    "    random = random + puerta_eleccion*abs(ran-1) + puerta_cambio*ran\n",
    "    stay_arr[n] = stay\n",
    "    change_arr[n] = change\n",
    "    random_arr[n] = random\n",
    "\n",
    "\n",
    "print(f'Prob de ganar si cambio: {round(change/n_count*100,0)}%.')\n",
    "print(f'Prob de ganar si me quedo: {round(stay/n_count*100,0)}%.')\n",
    "print(f'Prob de ganar si lo hago al azar: {round(random/n_count*100,0)}%.')"
   ]
  },
  {
   "cell_type": "code",
   "execution_count": 174,
   "id": "c0e07ee3-cfff-45d5-8abf-28a0a7e49e04",
   "metadata": {},
   "outputs": [
    {
     "name": "stdout",
     "output_type": "stream",
     "text": [
      "0.499531\n"
     ]
    }
   ],
   "source": []
  },
  {
   "cell_type": "code",
   "execution_count": null,
   "id": "5ea4926f-f950-48a5-9b63-af6df125a11c",
   "metadata": {},
   "outputs": [],
   "source": []
  }
 ],
 "metadata": {
  "kernelspec": {
   "display_name": "Python 3",
   "language": "python",
   "name": "python3"
  },
  "language_info": {
   "codemirror_mode": {
    "name": "ipython",
    "version": 3
   },
   "file_extension": ".py",
   "mimetype": "text/x-python",
   "name": "python",
   "nbconvert_exporter": "python",
   "pygments_lexer": "ipython3",
   "version": "3.8.8"
  }
 },
 "nbformat": 4,
 "nbformat_minor": 5
}
